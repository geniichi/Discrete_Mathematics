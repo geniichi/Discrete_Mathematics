{
 "cells": [
  {
   "cell_type": "markdown",
   "metadata": {},
   "source": [
    "Reflexive function:"
   ]
  },
  {
   "cell_type": "code",
   "execution_count": 2,
   "metadata": {},
   "outputs": [],
   "source": [
    "def reflexive(actual_set,relation):\n",
    "\n",
    "    R = relation\n",
    "\n",
    "    reflexive_array = []\n",
    "    non_reflexive_array = []\n",
    "\n",
    "    for array in R:\n",
    "        num1 = array[0]\n",
    "        num2 = array[1]\n",
    "        if num1 == num2:\n",
    "            reflexive_array.append(array)\n",
    "        else:\n",
    "            non_reflexive_array.append(array)\n",
    "\n",
    "    print(\"\")\n",
    "\n",
    "    if len(reflexive_array) == len(actual_set):\n",
    "        print(f\"the array {R} is reflexive\")\n",
    "    else:\n",
    "        print(f\"the array {R} is NOT reflexive\")\n",
    "\n",
    "    print(\"\")\n",
    "\n",
    "    print(f\"Reflexive arrays: {reflexive_array}\")\n",
    "    print(f\"Non - reflexive arrays: {non_reflexive_array}\")"
   ]
  },
  {
   "cell_type": "markdown",
   "metadata": {},
   "source": [
    "Symmetric function:"
   ]
  },
  {
   "cell_type": "code",
   "execution_count": 3,
   "metadata": {},
   "outputs": [],
   "source": [
    "def symmetric(relation):\n",
    "\n",
    "    R = relation\n",
    "\n",
    "    symmetric_array = []\n",
    "    non_symmetric_array = []\n",
    "\n",
    "    for [a,b] in R:\n",
    "        array = [a,b]\n",
    "        if [b,a] in R:\n",
    "            symmetric_array.append([b,a])\n",
    "        else:\n",
    "            non_symmetric_array.append([a,b])\n",
    "\n",
    "\n",
    "    if len(non_symmetric_array) == 0:\n",
    "        print(f\"the array {R} is symmetric\")\n",
    "    else:\n",
    "        print(f\"the array {R} is NOT symmetric\")\n",
    "\n",
    "    print(\"\")\n",
    "\n",
    "    print(f\"Symmetric arrays: {symmetric_array}\")\n",
    "    print(f\"Non - symmetric arrays: {non_symmetric_array}\")"
   ]
  },
  {
   "cell_type": "markdown",
   "metadata": {},
   "source": [
    "Transitive function:"
   ]
  },
  {
   "cell_type": "code",
   "execution_count": 4,
   "metadata": {},
   "outputs": [],
   "source": [
    "def transitive(relation):\n",
    "\n",
    "    T = relation\n",
    "\n",
    "    transitive_sets = []\n",
    "    non_transitive_sets = []\n",
    "\n",
    "    for [a,b] in T:\n",
    "        for [c,d] in T:\n",
    "            if (a,d) in R:\n",
    "                transitive_sets.append([a,b])\n",
    "            else:\n",
    "                non_transitive_sets.append([a,b])\n",
    "\n",
    "\n",
    "    unique_transitive_sets = []\n",
    "\n",
    "    for pair in transitive_sets:\n",
    "        if pair not in unique_transitive_sets:\n",
    "            unique_transitive_sets.append(pair) \n",
    "\n",
    "    if len(unique_transitive_sets) == len(T):\n",
    "        print(f\"the relation {T} is transitive\")\n",
    "    else:\n",
    "        print(f\"the relation {T} is NOT transitive\")"
   ]
  },
  {
   "cell_type": "markdown",
   "metadata": {},
   "source": [
    "Given $A = \\{1,2,3,4\\}$ and $B=\\{x,y,z\\}$. Let $R$ be a relation from $A \\to B$: $R$ = $\\{\\{1,y\\},\\{1,z\\},\\{3,y\\},\\{4,x\\},\\{4,z\\}\\}$"
   ]
  },
  {
   "cell_type": "markdown",
   "metadata": {},
   "source": [
    "1. Find all $aRb$.\n",
    "- so if $A$ = $\\{1,2,3,4\\}$\n",
    "- and $B$ = $\\{x,y,z\\}$\n",
    "- then its relation would be: $aRb$ = $\\{\\{1,x\\},\\{1,y\\},\\{1,z\\},\\{2,x\\},\\{2,y\\},\\{2,z\\},\\{3,x\\},\\{3,y\\},\\{3,z\\},\\{4,x\\},\\{4,y\\},\\{4,z\\},\\}$\n",
    "\n",
    "2. Find $R^{-1}$.\n",
    "- if $R$ is $\\{\\{1,y\\},\\{1,z\\},\\{3,y\\},\\{4,x\\},\\{4,z\\}\\}$\n",
    "- then the inverse of it should be where $\\{a,b\\}$ $\\to$ $\\{b,a\\}$ \n",
    "- therefore the inverse of $R$ should be, $R^{-1}$ = $\\{\\{y,1\\},\\{z,1\\},\\{y,3\\},\\{x,4\\},\\{z,4\\}\\}$\n",
    "\n",
    "3. Determine the domain and range of $R$.\n",
    "- to determine the domain and range of $R$, we only have to get first values of the ordered pairs as domain, while the second values of the ordered pairs is going to be our range, therefore the domain is  $\\{1, 2, 3, 4\\}$ while the range is $\\{x, y, z\\}$\n",
    "\n",
    "4. Check if $R$ is a reflexive relation.\n",
    "- if $R$ is $\\{\\{1,y\\},\\{1,z\\},\\{3,y\\},\\{4,x\\},\\{4,z\\}\\}$\n",
    "- and a reflexive relation should have all its elements in a similare ordered pairs such that: $\\{a,a\\}$\n",
    "- since we can't see any reflexive ordred pairs(ex. $\\{1,1\\}$) in the relation $R$\n",
    "- therefore, we can conclude that the $R$ = $\\{\\{1,y\\},\\{1,z\\},\\{3,y\\},\\{4,x\\},\\{4,z\\}\\}$ is not a reflexive relation"
   ]
  },
  {
   "cell_type": "code",
   "execution_count": 5,
   "metadata": {},
   "outputs": [
    {
     "name": "stdout",
     "output_type": "stream",
     "text": [
      "\n",
      "the array [[1, 'y'], [1, 'z'], [3, 'y'], [4, 'x'], [4, 'z']] is NOT reflexive\n",
      "\n",
      "Reflexive arrays: []\n",
      "Non - reflexive arrays: [[1, 'y'], [1, 'z'], [3, 'y'], [4, 'x'], [4, 'z']]\n"
     ]
    }
   ],
   "source": [
    "set_R = [1,3,4,'x','y','z']\n",
    "R = [[1,'y'],[1,'z'],[3,'y'],[4,'x'],[4,'z']]\n",
    "\n",
    "reflexive(set_R,R)"
   ]
  },
  {
   "cell_type": "markdown",
   "metadata": {},
   "source": [
    "5. Check if $R$ is a symmetric relation.\n",
    "\n",
    "- if $R$ is $\\{\\{1,y\\},\\{1,z\\},\\{3,y\\},\\{4,x\\},\\{4,z\\}\\}$\n",
    "- and a symetric relation should have ordered pairs where $\\{a,b\\}$ should have $\\{b,a\\}$\n",
    "- in this case, in our $R$ we can't see any symmetric relation \n",
    "- therefore, we can conclude that the $R$ = $\\{\\{1,y\\},\\{1,z\\},\\{3,y\\},\\{4,x\\},\\{4,z\\}\\}$ is NOT a symmetric relation"
   ]
  },
  {
   "cell_type": "code",
   "execution_count": 6,
   "metadata": {},
   "outputs": [
    {
     "name": "stdout",
     "output_type": "stream",
     "text": [
      "the array [[1, 'y'], [1, 'z'], [3, 'y'], [4, 'x'], [4, 'z']] is NOT symmetric\n",
      "\n",
      "Symmetric arrays: []\n",
      "Non - symmetric arrays: [[1, 'y'], [1, 'z'], [3, 'y'], [4, 'x'], [4, 'z']]\n"
     ]
    }
   ],
   "source": [
    "symmetric([[1,'y'],[1,'z'],[3,'y'],[4,'x'],[4,'z']])"
   ]
  },
  {
   "cell_type": "markdown",
   "metadata": {},
   "source": [
    "-------------------------------------------------------------------------------------------------------------------------------"
   ]
  },
  {
   "cell_type": "markdown",
   "metadata": {},
   "source": [
    "Given $A = \\{1,2,3,4\\}$,$B=\\{a,b,c\\}$, and $C=\\{x,y,z\\}$. Let $R$ be a relation from $A \\to B$: $R$ = $\\{\\{1,b\\},\\{2,a\\},\\{2,c\\}\\}$, Also Let $S$ be a relation from $B \\to C$: $S$ = $\\{\\{a,y\\},\\{b,x\\},\\{c,y\\},\\{c,z\\}\\}$\n",
    "\n",
    "- $A$ = $\\{1,2,3,4\\}$\n",
    "- $B$ = $\\{a,b,c\\}$ \n",
    "- since $S$ is a relation from $B \\to C$ following $\\{\\{a,y\\},\\{b,x\\},\\{c,y\\},\\{c,z\\}\\}$ which shows that in the first value of the ordered pairs, is in $A$ while the second value of the ordered pairs is in $B$\n",
    "- $C$ = $\\{x,y,z\\}$"
   ]
  },
  {
   "cell_type": "markdown",
   "metadata": {},
   "source": [
    "1. Find the composition relation $\\textbf{R}\\circ\\textbf{S}$.\n",
    "\n",
    "- if the $R$ = $\\{\\{1,b\\},\\{2,a\\},\\{2,c\\}\\}$ is a relation of $A \\to B$\n",
    "- and $S$ = $\\{\\{a,y\\},\\{b,x\\},\\{c,y\\},\\{c,z\\}\\}$ is a relation of $B \\to C$\n",
    "- and we can see that 1 connects to b which also connects to x which is: $\\{1,x\\}$\n",
    "- we can also see that 2 connects with a and c which also connects to y and z making it: $\\{2,y\\},\\{2,z\\}$\n",
    "- therefore, the composition of $R \\circ S$ which is a relation to $A \\to C$ is $\\{\\{1,x\\},\\{2,y\\},\\{2,z\\}\\}$"
   ]
  },
  {
   "cell_type": "code",
   "execution_count": 7,
   "metadata": {},
   "outputs": [
    {
     "data": {
      "image/svg+xml": [
       "<?xml version=\"1.0\" encoding=\"UTF-8\" standalone=\"no\"?>\n",
       "<!DOCTYPE svg PUBLIC \"-//W3C//DTD SVG 1.1//EN\"\n",
       " \"http://www.w3.org/Graphics/SVG/1.1/DTD/svg11.dtd\">\n",
       "<!-- Generated by graphviz version 8.1.0 (20230707.0739)\n",
       " -->\n",
       "<!-- Pages: 1 -->\n",
       "<svg width=\"206pt\" height=\"188pt\"\n",
       " viewBox=\"0.00 0.00 206.00 188.00\" xmlns=\"http://www.w3.org/2000/svg\" xmlns:xlink=\"http://www.w3.org/1999/xlink\">\n",
       "<g id=\"graph0\" class=\"graph\" transform=\"scale(1 1) rotate(0) translate(4 184)\">\n",
       "<polygon fill=\"white\" stroke=\"none\" points=\"-4,4 -4,-184 202,-184 202,4 -4,4\"/>\n",
       "<!-- 1 -->\n",
       "<g id=\"node1\" class=\"node\">\n",
       "<title>1</title>\n",
       "<ellipse fill=\"none\" stroke=\"black\" cx=\"27\" cy=\"-162\" rx=\"27\" ry=\"18\"/>\n",
       "<text text-anchor=\"middle\" x=\"27\" y=\"-156.57\" font-family=\"Times New Roman,serif\" font-size=\"14.00\">1</text>\n",
       "</g>\n",
       "<!-- b -->\n",
       "<g id=\"node2\" class=\"node\">\n",
       "<title>b</title>\n",
       "<ellipse fill=\"none\" stroke=\"black\" cx=\"27\" cy=\"-90\" rx=\"27\" ry=\"18\"/>\n",
       "<text text-anchor=\"middle\" x=\"27\" y=\"-84.58\" font-family=\"Times New Roman,serif\" font-size=\"14.00\">b</text>\n",
       "</g>\n",
       "<!-- 1&#45;&gt;b -->\n",
       "<g id=\"edge1\" class=\"edge\">\n",
       "<title>1&#45;&gt;b</title>\n",
       "<path fill=\"none\" stroke=\"black\" d=\"M27,-143.7C27,-136.24 27,-127.32 27,-118.97\"/>\n",
       "<polygon fill=\"black\" stroke=\"black\" points=\"30.5,-119.1 27,-109.1 23.5,-119.1 30.5,-119.1\"/>\n",
       "</g>\n",
       "<!-- x -->\n",
       "<g id=\"node7\" class=\"node\">\n",
       "<title>x</title>\n",
       "<ellipse fill=\"none\" stroke=\"black\" cx=\"27\" cy=\"-18\" rx=\"27\" ry=\"18\"/>\n",
       "<text text-anchor=\"middle\" x=\"27\" y=\"-12.57\" font-family=\"Times New Roman,serif\" font-size=\"14.00\">x</text>\n",
       "</g>\n",
       "<!-- b&#45;&gt;x -->\n",
       "<g id=\"edge2\" class=\"edge\">\n",
       "<title>b&#45;&gt;x</title>\n",
       "<path fill=\"none\" stroke=\"black\" d=\"M27,-71.7C27,-64.24 27,-55.32 27,-46.97\"/>\n",
       "<polygon fill=\"black\" stroke=\"black\" points=\"30.5,-47.1 27,-37.1 23.5,-47.1 30.5,-47.1\"/>\n",
       "</g>\n",
       "<!-- 2 -->\n",
       "<g id=\"node3\" class=\"node\">\n",
       "<title>2</title>\n",
       "<ellipse fill=\"none\" stroke=\"black\" cx=\"135\" cy=\"-162\" rx=\"27\" ry=\"18\"/>\n",
       "<text text-anchor=\"middle\" x=\"135\" y=\"-156.57\" font-family=\"Times New Roman,serif\" font-size=\"14.00\">2</text>\n",
       "</g>\n",
       "<!-- a -->\n",
       "<g id=\"node4\" class=\"node\">\n",
       "<title>a</title>\n",
       "<ellipse fill=\"none\" stroke=\"black\" cx=\"99\" cy=\"-90\" rx=\"27\" ry=\"18\"/>\n",
       "<text text-anchor=\"middle\" x=\"99\" y=\"-84.58\" font-family=\"Times New Roman,serif\" font-size=\"14.00\">a</text>\n",
       "</g>\n",
       "<!-- 2&#45;&gt;a -->\n",
       "<g id=\"edge3\" class=\"edge\">\n",
       "<title>2&#45;&gt;a</title>\n",
       "<path fill=\"none\" stroke=\"black\" d=\"M126.65,-144.76C122.38,-136.46 117.08,-126.15 112.27,-116.79\"/>\n",
       "<polygon fill=\"black\" stroke=\"black\" points=\"114.99,-115.44 107.3,-108.15 108.77,-118.64 114.99,-115.44\"/>\n",
       "</g>\n",
       "<!-- c -->\n",
       "<g id=\"node5\" class=\"node\">\n",
       "<title>c</title>\n",
       "<ellipse fill=\"none\" stroke=\"black\" cx=\"171\" cy=\"-90\" rx=\"27\" ry=\"18\"/>\n",
       "<text text-anchor=\"middle\" x=\"171\" y=\"-84.58\" font-family=\"Times New Roman,serif\" font-size=\"14.00\">c</text>\n",
       "</g>\n",
       "<!-- 2&#45;&gt;c -->\n",
       "<g id=\"edge4\" class=\"edge\">\n",
       "<title>2&#45;&gt;c</title>\n",
       "<path fill=\"none\" stroke=\"black\" d=\"M143.35,-144.76C147.62,-136.46 152.92,-126.15 157.73,-116.79\"/>\n",
       "<polygon fill=\"black\" stroke=\"black\" points=\"161.23,-118.64 162.7,-108.15 155.01,-115.44 161.23,-118.64\"/>\n",
       "</g>\n",
       "<!-- y -->\n",
       "<g id=\"node6\" class=\"node\">\n",
       "<title>y</title>\n",
       "<ellipse fill=\"none\" stroke=\"black\" cx=\"99\" cy=\"-18\" rx=\"27\" ry=\"18\"/>\n",
       "<text text-anchor=\"middle\" x=\"99\" y=\"-12.57\" font-family=\"Times New Roman,serif\" font-size=\"14.00\">y</text>\n",
       "</g>\n",
       "<!-- a&#45;&gt;y -->\n",
       "<g id=\"edge5\" class=\"edge\">\n",
       "<title>a&#45;&gt;y</title>\n",
       "<path fill=\"none\" stroke=\"black\" d=\"M99,-71.7C99,-64.24 99,-55.32 99,-46.97\"/>\n",
       "<polygon fill=\"black\" stroke=\"black\" points=\"102.5,-47.1 99,-37.1 95.5,-47.1 102.5,-47.1\"/>\n",
       "</g>\n",
       "<!-- c&#45;&gt;y -->\n",
       "<g id=\"edge6\" class=\"edge\">\n",
       "<title>c&#45;&gt;y</title>\n",
       "<path fill=\"none\" stroke=\"black\" d=\"M156.08,-74.5C146.14,-64.83 132.88,-51.94 121.65,-41.02\"/>\n",
       "<polygon fill=\"black\" stroke=\"black\" points=\"124.51,-38.95 114.9,-34.49 119.63,-43.97 124.51,-38.95\"/>\n",
       "</g>\n",
       "<!-- z -->\n",
       "<g id=\"node8\" class=\"node\">\n",
       "<title>z</title>\n",
       "<ellipse fill=\"none\" stroke=\"black\" cx=\"171\" cy=\"-18\" rx=\"27\" ry=\"18\"/>\n",
       "<text text-anchor=\"middle\" x=\"171\" y=\"-12.57\" font-family=\"Times New Roman,serif\" font-size=\"14.00\">z</text>\n",
       "</g>\n",
       "<!-- c&#45;&gt;z -->\n",
       "<g id=\"edge7\" class=\"edge\">\n",
       "<title>c&#45;&gt;z</title>\n",
       "<path fill=\"none\" stroke=\"black\" d=\"M171,-71.7C171,-64.24 171,-55.32 171,-46.97\"/>\n",
       "<polygon fill=\"black\" stroke=\"black\" points=\"174.5,-47.1 171,-37.1 167.5,-47.1 174.5,-47.1\"/>\n",
       "</g>\n",
       "</g>\n",
       "</svg>\n"
      ],
      "text/plain": [
       "<graphviz.sources.Source at 0x1d4314fc810>"
      ]
     },
     "execution_count": 7,
     "metadata": {},
     "output_type": "execute_result"
    }
   ],
   "source": [
    "### Pythonic Solution\n",
    "import networkx as nx\n",
    "G = nx.MultiDiGraph()\n",
    "\n",
    "G.add_edge('1','b')\n",
    "G.add_edge('2','a')\n",
    "G.add_edge('2','c')\n",
    "\n",
    "G.add_edge('a','y')\n",
    "G.add_edge('b','x')\n",
    "G.add_edge('c','y')\n",
    "G.add_edge('c','z')\n",
    "from networkx.drawing import nx_pydot\n",
    "from graphviz import Source\n",
    "\n",
    "nx_pydot.write_dot(G, 'multig.dot')\n",
    "Source.from_file('multig.dot')"
   ]
  },
  {
   "cell_type": "markdown",
   "metadata": {},
   "source": [
    "2. Find $R^{-1}$.\n",
    "\n",
    "- if $R$ = $\\{\\{1,b\\},\\{2,a\\},\\{2,c\\}\\}$\n",
    "- then the inverse of $R$ is $R^{-1}$ = $\\{\\{b,1\\},\\{a,2\\},\\{c,2\\}\\}$\n",
    "\n",
    "3. Find $S^{-1}$.\n",
    "\n",
    "- if $S$ = $\\{\\{a,y\\},\\{b,x\\},\\{c,y\\},\\{c,z\\}\\}$\n",
    "- then the inverse relation of $S$ would be is $S^{-1}$ = $\\{\\{y,a\\},\\{x,b\\},\\{y,c\\},\\{z,c\\}\\}$\n",
    "\n",
    "4. Determine the domain and range of $R$.\n",
    "\n",
    "- if $R$ = $\\{\\{1,b\\},\\{2,a\\},\\{2,c\\}\\}$\n",
    "- then the domain of $R$ should be the first values of the ordered pairs which is: $\\{1,2,2\\}$\n",
    "- and the second values of the ordered pairs would be the range: $\\{b,a,c\\}$\n",
    "\n",
    "5. Check if $R$ is a reflexive relation.\n",
    "\n",
    "- if $R$ = $\\{\\{1,b\\},\\{2,a\\},\\{2,c\\}\\}$\n",
    "- and it doesnt contain any similar values in a given pair such as: $\\{\\{1,1\\},\\{b,b\\},\\{2,2\\}.....\\}$\n",
    "- therefore the relation $R$ is not reflexive"
   ]
  },
  {
   "cell_type": "code",
   "execution_count": 8,
   "metadata": {},
   "outputs": [
    {
     "name": "stdout",
     "output_type": "stream",
     "text": [
      "\n",
      "the array [[1, 'b'], [2, 'a'], [2, 'c']] is NOT reflexive\n",
      "\n",
      "Reflexive arrays: []\n",
      "Non - reflexive arrays: [[1, 'b'], [2, 'a'], [2, 'c']]\n"
     ]
    }
   ],
   "source": [
    "set_R = [1,2,'a','b','c']\n",
    "R = [[1,'b'],[2,'a'],[2,'c']]\n",
    "\n",
    "reflexive(set_R,R)"
   ]
  },
  {
   "cell_type": "markdown",
   "metadata": {},
   "source": [
    "6. Check if $R$ is a symmetric relation.\n",
    "\n",
    "- if $R$ = $\\{\\{1,b\\},\\{2,a\\},\\{2,c\\}\\}$\n",
    "- and it doesnt contain any ordered pairs that have the the inverse version of it, example: $\\{1,b\\}$ = $\\{b,1\\}$\n",
    "- therefore the relation $R$ is not symmetric"
   ]
  },
  {
   "cell_type": "code",
   "execution_count": 9,
   "metadata": {},
   "outputs": [
    {
     "name": "stdout",
     "output_type": "stream",
     "text": [
      "the array [[1, 'b'], [2, 'a'], [2, 'c']] is NOT symmetric\n",
      "\n",
      "Symmetric arrays: []\n",
      "Non - symmetric arrays: [[1, 'b'], [2, 'a'], [2, 'c']]\n"
     ]
    }
   ],
   "source": [
    "symmetric([[1,'b'],[2,'a'],[2,'c']])"
   ]
  },
  {
   "cell_type": "markdown",
   "metadata": {},
   "source": [
    "7. Determine the domain and range of $S$.\n",
    "\n",
    "- if $S$ = $\\{\\{a,y\\},\\{b,x\\},\\{c,y\\},\\{c,z\\}\\}$\n",
    "- then the domain of $S$ should be the first values of the ordered pairs which is: $\\{a,b,c,c\\}$\n",
    "- and the second values of the ordered pairs would be the range: $\\{y,x,y,z\\}$\n",
    "\n",
    "8. Check if $S$ is a reflexive relation.\n",
    "\n",
    "- if $S$ = $\\{\\{a,y\\},\\{b,x\\},\\{c,y\\},\\{c,z\\}\\}$\n",
    "- and it doesnt contain any similar values in a given pair such as: $\\{\\{a,a\\},\\{b,b\\},\\{y,y\\}.....\\}$\n",
    "- therefore the relation $R$ is not reflexive"
   ]
  },
  {
   "cell_type": "code",
   "execution_count": 10,
   "metadata": {},
   "outputs": [
    {
     "name": "stdout",
     "output_type": "stream",
     "text": [
      "\n",
      "the array [['a', 'y'], ['b', 'x'], ['c', 'y'], ['c', 'z']] is NOT reflexive\n",
      "\n",
      "Reflexive arrays: []\n",
      "Non - reflexive arrays: [['a', 'y'], ['b', 'x'], ['c', 'y'], ['c', 'z']]\n"
     ]
    }
   ],
   "source": [
    "set_S = ['a','b','c','x','y','z']\n",
    "S = [['a','y'],['b','x'],['c','y'],['c','z']]\n",
    "\n",
    "reflexive(set_S,S)"
   ]
  },
  {
   "cell_type": "markdown",
   "metadata": {},
   "source": [
    "9. Check if $S$ is a symmetric relation.\n",
    "\n",
    "- if $S$ = $\\{\\{a,y\\},\\{b,x\\},\\{c,y\\},\\{c,z\\}\\}$\n",
    "- and it doesnt contain any ordered pairs that have the the inverse version of it, example: $\\{a,y\\}$ = $\\{y,a\\}$\n",
    "- therefore the relation $S$ is not symmetric"
   ]
  },
  {
   "cell_type": "code",
   "execution_count": 11,
   "metadata": {},
   "outputs": [
    {
     "name": "stdout",
     "output_type": "stream",
     "text": [
      "the array [['a', 'y'], ['b', 'x'], ['c', 'y'], ['c', 'z']] is NOT symmetric\n",
      "\n",
      "Symmetric arrays: []\n",
      "Non - symmetric arrays: [['a', 'y'], ['b', 'x'], ['c', 'y'], ['c', 'z']]\n"
     ]
    }
   ],
   "source": [
    "symmetric([['a','y'],['b','x'],['c','y'],['c','z']])"
   ]
  },
  {
   "cell_type": "markdown",
   "metadata": {},
   "source": [
    "-------------------------------------------------------------------------------------------------------------------------------"
   ]
  },
  {
   "cell_type": "markdown",
   "metadata": {},
   "source": [
    "Given $A = \\{1,2,3,4\\}$. Let $R$ be a relation from $A \\to B$: $R$ = $\\{\\{1,1\\},\\{2,2\\},\\{2,3\\},\\{3,2\\},\\{4,2\\},\\{4,4\\}\\}$"
   ]
  },
  {
   "cell_type": "markdown",
   "metadata": {},
   "source": [
    "1. Find the composition relation $\\textbf{R}\\circ\\textbf{R}$.\n",
    "\n",
    "- if $R$ = $\\{\\{1,1\\},\\{2,2\\},\\{2,3\\},\\{3,2\\},\\{4,2\\},\\{4,4\\}\\}$ is a relation of $A \\to B$\n",
    "- then $R \\circ R$ should be composite relation to itself such that:\n",
    "\n",
    "    $R^{1}$ = $\\{\\{1,1\\},\\{2,2\\},\\{2,3\\},\\{3,2\\},\\{4,2\\},\\{4,4\\}\\}$ \\\n",
    "    $R^{2}$ = $\\{\\{1,1\\},\\{2,2\\},\\{2,3\\},\\{3,2\\},\\{4,2\\},\\{4,4\\}\\}$\n",
    "\n",
    "- therefore $(a,b) \\in R^{1}$ and $(b,c) \\in R^{2}$\n",
    "\n",
    "- if $R^{1}$ = $\\{1,1\\}$ $|$ 1 is a, and 1 is b \n",
    "- and $R^{2}$ = $\\{1,1\\}$ $|$ 1 is b, and 1 is c\n",
    "- therefore the first ordered pair of $R \\circ R$ is $\\{1,1\\}$\n",
    "- and if we repeat that process, we get: $R \\circ R$ = $\\{\\{1,1\\},\\{2,2\\},\\{2,3\\},\\{3,2\\},\\{3,3\\},\\{4,2\\},\\{4,3\\},\\{4,2\\},\\{4,4\\}\\}$"
   ]
  },
  {
   "cell_type": "code",
   "execution_count": 12,
   "metadata": {},
   "outputs": [
    {
     "data": {
      "image/svg+xml": [
       "<?xml version=\"1.0\" encoding=\"UTF-8\" standalone=\"no\"?>\n",
       "<!DOCTYPE svg PUBLIC \"-//W3C//DTD SVG 1.1//EN\"\n",
       " \"http://www.w3.org/Graphics/SVG/1.1/DTD/svg11.dtd\">\n",
       "<!-- Generated by graphviz version 8.1.0 (20230707.0739)\n",
       " -->\n",
       "<!-- Pages: 1 -->\n",
       "<svg width=\"278pt\" height=\"188pt\"\n",
       " viewBox=\"0.00 0.00 278.00 188.00\" xmlns=\"http://www.w3.org/2000/svg\" xmlns:xlink=\"http://www.w3.org/1999/xlink\">\n",
       "<g id=\"graph0\" class=\"graph\" transform=\"scale(1 1) rotate(0) translate(4 184)\">\n",
       "<polygon fill=\"white\" stroke=\"none\" points=\"-4,4 -4,-184 274,-184 274,4 -4,4\"/>\n",
       "<!-- 1(a) -->\n",
       "<g id=\"node1\" class=\"node\">\n",
       "<title>1(a)</title>\n",
       "<ellipse fill=\"none\" stroke=\"black\" cx=\"27\" cy=\"-162\" rx=\"27\" ry=\"18\"/>\n",
       "<text text-anchor=\"middle\" x=\"27\" y=\"-156.57\" font-family=\"Times New Roman,serif\" font-size=\"14.00\">1(a)</text>\n",
       "</g>\n",
       "<!-- 1. -->\n",
       "<g id=\"node2\" class=\"node\">\n",
       "<title>1.</title>\n",
       "<ellipse fill=\"none\" stroke=\"black\" cx=\"27\" cy=\"-90\" rx=\"27\" ry=\"18\"/>\n",
       "<text text-anchor=\"middle\" x=\"27\" y=\"-84.58\" font-family=\"Times New Roman,serif\" font-size=\"14.00\">1.</text>\n",
       "</g>\n",
       "<!-- 1(a)&#45;&gt;1. -->\n",
       "<g id=\"edge1\" class=\"edge\">\n",
       "<title>1(a)&#45;&gt;1.</title>\n",
       "<path fill=\"none\" stroke=\"black\" d=\"M27,-143.7C27,-136.24 27,-127.32 27,-118.97\"/>\n",
       "<polygon fill=\"black\" stroke=\"black\" points=\"30.5,-119.1 27,-109.1 23.5,-119.1 30.5,-119.1\"/>\n",
       "</g>\n",
       "<!-- 1(b) -->\n",
       "<g id=\"node9\" class=\"node\">\n",
       "<title>1(b)</title>\n",
       "<ellipse fill=\"none\" stroke=\"black\" cx=\"27\" cy=\"-18\" rx=\"27\" ry=\"18\"/>\n",
       "<text text-anchor=\"middle\" x=\"27\" y=\"-12.57\" font-family=\"Times New Roman,serif\" font-size=\"14.00\">1(b)</text>\n",
       "</g>\n",
       "<!-- 1.&#45;&gt;1(b) -->\n",
       "<g id=\"edge2\" class=\"edge\">\n",
       "<title>1.&#45;&gt;1(b)</title>\n",
       "<path fill=\"none\" stroke=\"black\" d=\"M27,-71.7C27,-64.24 27,-55.32 27,-46.97\"/>\n",
       "<polygon fill=\"black\" stroke=\"black\" points=\"30.5,-47.1 27,-37.1 23.5,-47.1 30.5,-47.1\"/>\n",
       "</g>\n",
       "<!-- 2(a) -->\n",
       "<g id=\"node3\" class=\"node\">\n",
       "<title>2(a)</title>\n",
       "<ellipse fill=\"none\" stroke=\"black\" cx=\"171\" cy=\"-162\" rx=\"27\" ry=\"18\"/>\n",
       "<text text-anchor=\"middle\" x=\"171\" y=\"-156.57\" font-family=\"Times New Roman,serif\" font-size=\"14.00\">2(a)</text>\n",
       "</g>\n",
       "<!-- 2. -->\n",
       "<g id=\"node4\" class=\"node\">\n",
       "<title>2.</title>\n",
       "<ellipse fill=\"none\" stroke=\"black\" cx=\"99\" cy=\"-90\" rx=\"27\" ry=\"18\"/>\n",
       "<text text-anchor=\"middle\" x=\"99\" y=\"-84.58\" font-family=\"Times New Roman,serif\" font-size=\"14.00\">2.</text>\n",
       "</g>\n",
       "<!-- 2(a)&#45;&gt;2. -->\n",
       "<g id=\"edge3\" class=\"edge\">\n",
       "<title>2(a)&#45;&gt;2.</title>\n",
       "<path fill=\"none\" stroke=\"black\" d=\"M156.08,-146.5C146.14,-136.83 132.88,-123.94 121.65,-113.02\"/>\n",
       "<polygon fill=\"black\" stroke=\"black\" points=\"124.51,-110.95 114.9,-106.49 119.63,-115.97 124.51,-110.95\"/>\n",
       "</g>\n",
       "<!-- 3. -->\n",
       "<g id=\"node5\" class=\"node\">\n",
       "<title>3.</title>\n",
       "<ellipse fill=\"none\" stroke=\"black\" cx=\"171\" cy=\"-90\" rx=\"27\" ry=\"18\"/>\n",
       "<text text-anchor=\"middle\" x=\"171\" y=\"-84.58\" font-family=\"Times New Roman,serif\" font-size=\"14.00\">3.</text>\n",
       "</g>\n",
       "<!-- 2(a)&#45;&gt;3. -->\n",
       "<g id=\"edge4\" class=\"edge\">\n",
       "<title>2(a)&#45;&gt;3.</title>\n",
       "<path fill=\"none\" stroke=\"black\" d=\"M171,-143.7C171,-136.24 171,-127.32 171,-118.97\"/>\n",
       "<polygon fill=\"black\" stroke=\"black\" points=\"174.5,-119.1 171,-109.1 167.5,-119.1 174.5,-119.1\"/>\n",
       "</g>\n",
       "<!-- 2(b) -->\n",
       "<g id=\"node10\" class=\"node\">\n",
       "<title>2(b)</title>\n",
       "<ellipse fill=\"none\" stroke=\"black\" cx=\"171\" cy=\"-18\" rx=\"27\" ry=\"18\"/>\n",
       "<text text-anchor=\"middle\" x=\"171\" y=\"-12.57\" font-family=\"Times New Roman,serif\" font-size=\"14.00\">2(b)</text>\n",
       "</g>\n",
       "<!-- 2.&#45;&gt;2(b) -->\n",
       "<g id=\"edge5\" class=\"edge\">\n",
       "<title>2.&#45;&gt;2(b)</title>\n",
       "<path fill=\"none\" stroke=\"black\" d=\"M113.92,-74.5C123.86,-64.83 137.12,-51.94 148.35,-41.02\"/>\n",
       "<polygon fill=\"black\" stroke=\"black\" points=\"150.37,-43.97 155.1,-34.49 145.49,-38.95 150.37,-43.97\"/>\n",
       "</g>\n",
       "<!-- 3(b) -->\n",
       "<g id=\"node11\" class=\"node\">\n",
       "<title>3(b)</title>\n",
       "<ellipse fill=\"none\" stroke=\"black\" cx=\"99\" cy=\"-18\" rx=\"27\" ry=\"18\"/>\n",
       "<text text-anchor=\"middle\" x=\"99\" y=\"-12.57\" font-family=\"Times New Roman,serif\" font-size=\"14.00\">3(b)</text>\n",
       "</g>\n",
       "<!-- 2.&#45;&gt;3(b) -->\n",
       "<g id=\"edge6\" class=\"edge\">\n",
       "<title>2.&#45;&gt;3(b)</title>\n",
       "<path fill=\"none\" stroke=\"black\" d=\"M99,-71.7C99,-64.24 99,-55.32 99,-46.97\"/>\n",
       "<polygon fill=\"black\" stroke=\"black\" points=\"102.5,-47.1 99,-37.1 95.5,-47.1 102.5,-47.1\"/>\n",
       "</g>\n",
       "<!-- 3.&#45;&gt;2(b) -->\n",
       "<g id=\"edge7\" class=\"edge\">\n",
       "<title>3.&#45;&gt;2(b)</title>\n",
       "<path fill=\"none\" stroke=\"black\" d=\"M171,-71.7C171,-64.24 171,-55.32 171,-46.97\"/>\n",
       "<polygon fill=\"black\" stroke=\"black\" points=\"174.5,-47.1 171,-37.1 167.5,-47.1 174.5,-47.1\"/>\n",
       "</g>\n",
       "<!-- 3(a) -->\n",
       "<g id=\"node6\" class=\"node\">\n",
       "<title>3(a)</title>\n",
       "<ellipse fill=\"none\" stroke=\"black\" cx=\"99\" cy=\"-162\" rx=\"27\" ry=\"18\"/>\n",
       "<text text-anchor=\"middle\" x=\"99\" y=\"-156.57\" font-family=\"Times New Roman,serif\" font-size=\"14.00\">3(a)</text>\n",
       "</g>\n",
       "<!-- 3(a)&#45;&gt;2. -->\n",
       "<g id=\"edge8\" class=\"edge\">\n",
       "<title>3(a)&#45;&gt;2.</title>\n",
       "<path fill=\"none\" stroke=\"black\" d=\"M99,-143.7C99,-136.24 99,-127.32 99,-118.97\"/>\n",
       "<polygon fill=\"black\" stroke=\"black\" points=\"102.5,-119.1 99,-109.1 95.5,-119.1 102.5,-119.1\"/>\n",
       "</g>\n",
       "<!-- 4(a) -->\n",
       "<g id=\"node7\" class=\"node\">\n",
       "<title>4(a)</title>\n",
       "<ellipse fill=\"none\" stroke=\"black\" cx=\"243\" cy=\"-162\" rx=\"27\" ry=\"18\"/>\n",
       "<text text-anchor=\"middle\" x=\"243\" y=\"-156.57\" font-family=\"Times New Roman,serif\" font-size=\"14.00\">4(a)</text>\n",
       "</g>\n",
       "<!-- 4(a)&#45;&gt;2. -->\n",
       "<g id=\"edge9\" class=\"edge\">\n",
       "<title>4(a)&#45;&gt;2.</title>\n",
       "<path fill=\"none\" stroke=\"black\" d=\"M221.44,-150.52C197.12,-138.7 157.38,-119.38 129.8,-105.97\"/>\n",
       "<polygon fill=\"black\" stroke=\"black\" points=\"131.76,-102.55 121.24,-101.32 128.7,-108.84 131.76,-102.55\"/>\n",
       "</g>\n",
       "<!-- 4. -->\n",
       "<g id=\"node8\" class=\"node\">\n",
       "<title>4.</title>\n",
       "<ellipse fill=\"none\" stroke=\"black\" cx=\"243\" cy=\"-90\" rx=\"27\" ry=\"18\"/>\n",
       "<text text-anchor=\"middle\" x=\"243\" y=\"-84.58\" font-family=\"Times New Roman,serif\" font-size=\"14.00\">4.</text>\n",
       "</g>\n",
       "<!-- 4(a)&#45;&gt;4. -->\n",
       "<g id=\"edge10\" class=\"edge\">\n",
       "<title>4(a)&#45;&gt;4.</title>\n",
       "<path fill=\"none\" stroke=\"black\" d=\"M243,-143.7C243,-136.24 243,-127.32 243,-118.97\"/>\n",
       "<polygon fill=\"black\" stroke=\"black\" points=\"246.5,-119.1 243,-109.1 239.5,-119.1 246.5,-119.1\"/>\n",
       "</g>\n",
       "<!-- 4.&#45;&gt;2(b) -->\n",
       "<g id=\"edge11\" class=\"edge\">\n",
       "<title>4.&#45;&gt;2(b)</title>\n",
       "<path fill=\"none\" stroke=\"black\" d=\"M228.08,-74.5C218.14,-64.83 204.88,-51.94 193.65,-41.02\"/>\n",
       "<polygon fill=\"black\" stroke=\"black\" points=\"196.51,-38.95 186.9,-34.49 191.63,-43.97 196.51,-38.95\"/>\n",
       "</g>\n",
       "<!-- 4(b) -->\n",
       "<g id=\"node12\" class=\"node\">\n",
       "<title>4(b)</title>\n",
       "<ellipse fill=\"none\" stroke=\"black\" cx=\"243\" cy=\"-18\" rx=\"27\" ry=\"18\"/>\n",
       "<text text-anchor=\"middle\" x=\"243\" y=\"-12.57\" font-family=\"Times New Roman,serif\" font-size=\"14.00\">4(b)</text>\n",
       "</g>\n",
       "<!-- 4.&#45;&gt;4(b) -->\n",
       "<g id=\"edge12\" class=\"edge\">\n",
       "<title>4.&#45;&gt;4(b)</title>\n",
       "<path fill=\"none\" stroke=\"black\" d=\"M243,-71.7C243,-64.24 243,-55.32 243,-46.97\"/>\n",
       "<polygon fill=\"black\" stroke=\"black\" points=\"246.5,-47.1 243,-37.1 239.5,-47.1 246.5,-47.1\"/>\n",
       "</g>\n",
       "</g>\n",
       "</svg>\n"
      ],
      "text/plain": [
       "<graphviz.sources.Source at 0x1d4314fb190>"
      ]
     },
     "execution_count": 12,
     "metadata": {},
     "output_type": "execute_result"
    }
   ],
   "source": [
    "import networkx as nx\n",
    "G = nx.MultiDiGraph()\n",
    "\n",
    "# (a)\n",
    "G.add_edge('1(a)','1.')\n",
    "G.add_edge('2(a)','2.')\n",
    "G.add_edge('2(a)','3.')\n",
    "G.add_edge('3(a)','2.')\n",
    "G.add_edge('4(a)','2.')\n",
    "G.add_edge('4(a)','4.')\n",
    "\n",
    "# (b)\n",
    "G.add_edge('1.','1(b)')\n",
    "G.add_edge('2.','2(b)')\n",
    "G.add_edge('2.','3(b)')\n",
    "G.add_edge('3.','2(b)')\n",
    "G.add_edge('4.','2(b)')\n",
    "G.add_edge('4.','4(b)')\n",
    "\n",
    "from networkx.drawing import nx_pydot\n",
    "from graphviz import Source\n",
    "\n",
    "nx_pydot.write_dot(G, 'multig.dot')\n",
    "Source.from_file('multig.dot')"
   ]
  },
  {
   "cell_type": "markdown",
   "metadata": {},
   "source": [
    "2. Draw the directed graph of $R^{-1}$.\n",
    "\n",
    "- if $R$ = $\\{\\{1,1\\},\\{2,2\\},\\{2,3\\},\\{3,2\\},\\{4,2\\},\\{4,4\\}\\}$\n",
    "- then it's inverse would be $\\{\\{1,1\\},\\{2,2\\},\\{3,2\\},\\{2,3\\},\\{2,4\\},\\{4,4\\}\\}$\n",
    "- and the directed graph would be:"
   ]
  },
  {
   "cell_type": "code",
   "execution_count": 13,
   "metadata": {},
   "outputs": [
    {
     "data": {
      "image/svg+xml": [
       "<?xml version=\"1.0\" encoding=\"UTF-8\" standalone=\"no\"?>\n",
       "<!DOCTYPE svg PUBLIC \"-//W3C//DTD SVG 1.1//EN\"\n",
       " \"http://www.w3.org/Graphics/SVG/1.1/DTD/svg11.dtd\">\n",
       "<!-- Generated by graphviz version 8.1.0 (20230707.0739)\n",
       " -->\n",
       "<!-- Pages: 1 -->\n",
       "<svg width=\"242pt\" height=\"116pt\"\n",
       " viewBox=\"0.00 0.00 242.00 116.00\" xmlns=\"http://www.w3.org/2000/svg\" xmlns:xlink=\"http://www.w3.org/1999/xlink\">\n",
       "<g id=\"graph0\" class=\"graph\" transform=\"scale(1 1) rotate(0) translate(4 112)\">\n",
       "<polygon fill=\"white\" stroke=\"none\" points=\"-4,4 -4,-112 238,-112 238,4 -4,4\"/>\n",
       "<!-- 1 -->\n",
       "<g id=\"node1\" class=\"node\">\n",
       "<title>1</title>\n",
       "<ellipse fill=\"none\" stroke=\"black\" cx=\"27\" cy=\"-90\" rx=\"27\" ry=\"18\"/>\n",
       "<text text-anchor=\"middle\" x=\"27\" y=\"-84.58\" font-family=\"Times New Roman,serif\" font-size=\"14.00\">1</text>\n",
       "</g>\n",
       "<!-- 1&#45;&gt;1 -->\n",
       "<g id=\"edge1\" class=\"edge\">\n",
       "<title>1&#45;&gt;1</title>\n",
       "<path fill=\"none\" stroke=\"black\" d=\"M46.9,-102.43C59.69,-105.68 72,-101.53 72,-90 72,-81.89 65.91,-77.44 57.85,-76.63\"/>\n",
       "<polygon fill=\"black\" stroke=\"black\" points=\"57.56,-73.23 47.9,-77.57 58.16,-80.2 57.56,-73.23\"/>\n",
       "</g>\n",
       "<!-- 2 -->\n",
       "<g id=\"node2\" class=\"node\">\n",
       "<title>2</title>\n",
       "<ellipse fill=\"none\" stroke=\"black\" cx=\"117\" cy=\"-90\" rx=\"27\" ry=\"18\"/>\n",
       "<text text-anchor=\"middle\" x=\"117\" y=\"-84.58\" font-family=\"Times New Roman,serif\" font-size=\"14.00\">2</text>\n",
       "</g>\n",
       "<!-- 2&#45;&gt;2 -->\n",
       "<g id=\"edge2\" class=\"edge\">\n",
       "<title>2&#45;&gt;2</title>\n",
       "<path fill=\"none\" stroke=\"black\" d=\"M136.9,-102.43C149.69,-105.68 162,-101.53 162,-90 162,-81.89 155.91,-77.44 147.85,-76.63\"/>\n",
       "<polygon fill=\"black\" stroke=\"black\" points=\"147.56,-73.23 137.9,-77.57 148.16,-80.2 147.56,-73.23\"/>\n",
       "</g>\n",
       "<!-- 3 -->\n",
       "<g id=\"node3\" class=\"node\">\n",
       "<title>3</title>\n",
       "<ellipse fill=\"none\" stroke=\"black\" cx=\"117\" cy=\"-18\" rx=\"27\" ry=\"18\"/>\n",
       "<text text-anchor=\"middle\" x=\"117\" y=\"-12.57\" font-family=\"Times New Roman,serif\" font-size=\"14.00\">3</text>\n",
       "</g>\n",
       "<!-- 2&#45;&gt;3 -->\n",
       "<g id=\"edge3\" class=\"edge\">\n",
       "<title>2&#45;&gt;3</title>\n",
       "<path fill=\"none\" stroke=\"black\" d=\"M111.12,-72.05C110.31,-64.4 110.06,-55.16 110.39,-46.56\"/>\n",
       "<polygon fill=\"black\" stroke=\"black\" points=\"113.93,-47.01 111.14,-36.79 106.95,-46.52 113.93,-47.01\"/>\n",
       "</g>\n",
       "<!-- 4 -->\n",
       "<g id=\"node4\" class=\"node\">\n",
       "<title>4</title>\n",
       "<ellipse fill=\"none\" stroke=\"black\" cx=\"189\" cy=\"-18\" rx=\"27\" ry=\"18\"/>\n",
       "<text text-anchor=\"middle\" x=\"189\" y=\"-12.57\" font-family=\"Times New Roman,serif\" font-size=\"14.00\">4</text>\n",
       "</g>\n",
       "<!-- 2&#45;&gt;4 -->\n",
       "<g id=\"edge4\" class=\"edge\">\n",
       "<title>2&#45;&gt;4</title>\n",
       "<path fill=\"none\" stroke=\"black\" d=\"M131.92,-74.5C141.86,-64.83 155.12,-51.94 166.35,-41.02\"/>\n",
       "<polygon fill=\"black\" stroke=\"black\" points=\"168.37,-43.97 173.1,-34.49 163.49,-38.95 168.37,-43.97\"/>\n",
       "</g>\n",
       "<!-- 3&#45;&gt;2 -->\n",
       "<g id=\"edge5\" class=\"edge\">\n",
       "<title>3&#45;&gt;2</title>\n",
       "<path fill=\"none\" stroke=\"black\" d=\"M122.86,-35.79C123.68,-43.42 123.93,-52.65 123.62,-61.27\"/>\n",
       "<polygon fill=\"black\" stroke=\"black\" points=\"120.07,-60.84 122.88,-71.05 127.06,-61.32 120.07,-60.84\"/>\n",
       "</g>\n",
       "<!-- 4&#45;&gt;4 -->\n",
       "<g id=\"edge6\" class=\"edge\">\n",
       "<title>4&#45;&gt;4</title>\n",
       "<path fill=\"none\" stroke=\"black\" d=\"M208.9,-30.43C221.69,-33.68 234,-29.53 234,-18 234,-9.89 227.91,-5.44 219.85,-4.63\"/>\n",
       "<polygon fill=\"black\" stroke=\"black\" points=\"219.56,-1.23 209.9,-5.57 220.16,-8.2 219.56,-1.23\"/>\n",
       "</g>\n",
       "</g>\n",
       "</svg>\n"
      ],
      "text/plain": [
       "<graphviz.sources.Source at 0x1d4300c7ad0>"
      ]
     },
     "execution_count": 13,
     "metadata": {},
     "output_type": "execute_result"
    }
   ],
   "source": [
    "import networkx as nx\n",
    "G = nx.MultiDiGraph()\n",
    "\n",
    "G.add_edge('1','1')\n",
    "G.add_edge('2','2')\n",
    "G.add_edge('3','2')\n",
    "G.add_edge('2','3')\n",
    "G.add_edge('2','4')\n",
    "G.add_edge('4','4')\n",
    "\n",
    "from networkx.drawing import nx_pydot\n",
    "from graphviz import Source\n",
    "\n",
    "nx_pydot.write_dot(G, 'multig.dot')\n",
    "Source.from_file('multig.dot')"
   ]
  },
  {
   "cell_type": "markdown",
   "metadata": {},
   "source": [
    "3. Draw the directed graph of $R$.\n",
    "\n",
    "- if $R$ = $\\{\\{1,1\\},\\{2,2\\},\\{2,3\\},\\{3,2\\},\\{4,2\\},\\{4,4\\}\\}$\n",
    "- then the directed graph would be"
   ]
  },
  {
   "cell_type": "markdown",
   "metadata": {},
   "source": [
    "-------------------------------------------------------------------------------------------------------------------------------"
   ]
  },
  {
   "cell_type": "markdown",
   "metadata": {},
   "source": [
    "Let $R$ and $S$ be relations on $A = \\{1,2,3\\}$. let: $R$ = $\\{\\{1,1\\},\\{1,2\\},\\{2,3\\},\\{3,1\\},\\{3,3\\}\\}$. Let: $S$ = $\\{\\{1,2\\},\\{1,3\\},\\{2,1\\},\\{3,3\\}\\}$\n",
    "\n",
    "Find:"
   ]
  },
  {
   "cell_type": "markdown",
   "metadata": {},
   "source": [
    "1. $R \\cup S$\n",
    "\n",
    "- if $R$ = $\\{\\{1,1\\},\\{1,2\\},\\{2,3\\},\\{3,1\\},\\{3,3\\}\\}$\n",
    "- and $S$ = $\\{\\{1,2\\},\\{1,3\\},\\{2,1\\},\\{3,3\\}\\}$\n",
    "- then $R \\cup S$ would be = $\\{\\{1,1\\},\\{1,2\\},\\{2,3\\}\\{3,1\\},\\{3,3\\},\\{1,2\\},\\{1,3\\},\\{2,1\\}\\}$\n",
    "- then remove the duplicates $(\\{1,2\\})$ which in turn gives us $\\{\\{1,1\\},\\{1,2\\},\\{2,3\\}\\{3,1\\},\\{3,3\\},\\{1,3\\},\\{2,1\\}\\}$"
   ]
  },
  {
   "cell_type": "markdown",
   "metadata": {},
   "source": [
    "2. $R \\cap S$\n",
    "\n",
    "- if $R$ = $\\{\\{1,1\\},\\{1,2\\},\\{2,3\\},\\{3,1\\},\\{3,3\\}\\}$\n",
    "- and $S$ = $\\{\\{1,2\\},\\{1,3\\},\\{2,1\\},\\{3,3\\}\\}$\n",
    "- then $R \\cap S$ would be = $\\{\\{1,2\\},\\{3,3\\}\\}$"
   ]
  },
  {
   "cell_type": "markdown",
   "metadata": {},
   "source": [
    "3. $R^{c}$\n",
    "\n",
    "- if $R$ = $\\{\\{1,1\\},\\{1,2\\},\\{2,3\\},\\{3,1\\},\\{3,3\\}\\}$\n",
    "- and $S$ = $\\{\\{1,2\\},\\{1,3\\},\\{2,1\\},\\{3,3\\}\\}$\n",
    "- then $R^{c}$ should be $\\{\\{1,3\\},\\{2,1\\}\\}$\n"
   ]
  },
  {
   "cell_type": "markdown",
   "metadata": {},
   "source": [
    "\n",
    "4. $R \\circ S$\n",
    "\n",
    "- if $R$ = $\\{\\{1,1\\},\\{1,2\\},\\{2,3\\},\\{3,1\\},\\{3,3\\}\\}$\n",
    "- and $S$ = $\\{\\{1,2\\},\\{1,3\\},\\{2,1\\},\\{3,3\\}\\}$\n",
    "- in the first ordered pairs in the two relations $R$ & $S$, we can see that 1(domain/a) connects to 1(range/b) which the 1(domain/a) then connects to 2(range/b), therefore: $\\{1,2\\}$\n",
    "- we can also see that 1(domain) connects with 1(range) where it then connects to 1(domain/a) then 3(range/b), therefore: $\\{1,3\\}$\n",
    "- and if we repeat that process, we get: $R \\circ S$ = $\\{\\{1,1\\},\\{1,3\\},\\{2,3\\},\\{3,1\\},\\{3,3\\}\\}$\n",
    "- therefore, the composition of $R \\circ S$ which is a relation to $A \\to C$ is $\\{\\{1,2\\},\\{1,3\\},\\{1,1\\},\\{2,3\\},\\{3,2\\},\\{3,3\\}\\}$"
   ]
  },
  {
   "cell_type": "code",
   "execution_count": 14,
   "metadata": {},
   "outputs": [
    {
     "data": {
      "image/svg+xml": [
       "<?xml version=\"1.0\" encoding=\"UTF-8\" standalone=\"no\"?>\n",
       "<!DOCTYPE svg PUBLIC \"-//W3C//DTD SVG 1.1//EN\"\n",
       " \"http://www.w3.org/Graphics/SVG/1.1/DTD/svg11.dtd\">\n",
       "<!-- Generated by graphviz version 8.1.0 (20230707.0739)\n",
       " -->\n",
       "<!-- Pages: 1 -->\n",
       "<svg width=\"206pt\" height=\"188pt\"\n",
       " viewBox=\"0.00 0.00 206.00 188.00\" xmlns=\"http://www.w3.org/2000/svg\" xmlns:xlink=\"http://www.w3.org/1999/xlink\">\n",
       "<g id=\"graph0\" class=\"graph\" transform=\"scale(1 1) rotate(0) translate(4 184)\">\n",
       "<polygon fill=\"white\" stroke=\"none\" points=\"-4,4 -4,-184 202,-184 202,4 -4,4\"/>\n",
       "<!-- 1(a) -->\n",
       "<g id=\"node1\" class=\"node\">\n",
       "<title>1(a)</title>\n",
       "<ellipse fill=\"none\" stroke=\"black\" cx=\"27\" cy=\"-162\" rx=\"27\" ry=\"18\"/>\n",
       "<text text-anchor=\"middle\" x=\"27\" y=\"-156.57\" font-family=\"Times New Roman,serif\" font-size=\"14.00\">1(a)</text>\n",
       "</g>\n",
       "<!-- 1(b) -->\n",
       "<g id=\"node2\" class=\"node\">\n",
       "<title>1(b)</title>\n",
       "<ellipse fill=\"none\" stroke=\"black\" cx=\"99\" cy=\"-90\" rx=\"27\" ry=\"18\"/>\n",
       "<text text-anchor=\"middle\" x=\"99\" y=\"-84.58\" font-family=\"Times New Roman,serif\" font-size=\"14.00\">1(b)</text>\n",
       "</g>\n",
       "<!-- 1(a)&#45;&gt;1(b) -->\n",
       "<g id=\"edge1\" class=\"edge\">\n",
       "<title>1(a)&#45;&gt;1(b)</title>\n",
       "<path fill=\"none\" stroke=\"black\" d=\"M41.92,-146.5C51.86,-136.83 65.12,-123.94 76.35,-113.02\"/>\n",
       "<polygon fill=\"black\" stroke=\"black\" points=\"78.37,-115.97 83.1,-106.49 73.49,-110.95 78.37,-115.97\"/>\n",
       "</g>\n",
       "<!-- 2(b) -->\n",
       "<g id=\"node3\" class=\"node\">\n",
       "<title>2(b)</title>\n",
       "<ellipse fill=\"none\" stroke=\"black\" cx=\"27\" cy=\"-90\" rx=\"27\" ry=\"18\"/>\n",
       "<text text-anchor=\"middle\" x=\"27\" y=\"-84.58\" font-family=\"Times New Roman,serif\" font-size=\"14.00\">2(b)</text>\n",
       "</g>\n",
       "<!-- 1(a)&#45;&gt;2(b) -->\n",
       "<g id=\"edge2\" class=\"edge\">\n",
       "<title>1(a)&#45;&gt;2(b)</title>\n",
       "<path fill=\"none\" stroke=\"black\" d=\"M27,-143.7C27,-136.24 27,-127.32 27,-118.97\"/>\n",
       "<polygon fill=\"black\" stroke=\"black\" points=\"30.5,-119.1 27,-109.1 23.5,-119.1 30.5,-119.1\"/>\n",
       "</g>\n",
       "<!-- 2(c) -->\n",
       "<g id=\"node7\" class=\"node\">\n",
       "<title>2(c)</title>\n",
       "<ellipse fill=\"none\" stroke=\"black\" cx=\"99\" cy=\"-18\" rx=\"27\" ry=\"18\"/>\n",
       "<text text-anchor=\"middle\" x=\"99\" y=\"-12.57\" font-family=\"Times New Roman,serif\" font-size=\"14.00\">2(c)</text>\n",
       "</g>\n",
       "<!-- 1(b)&#45;&gt;2(c) -->\n",
       "<g id=\"edge3\" class=\"edge\">\n",
       "<title>1(b)&#45;&gt;2(c)</title>\n",
       "<path fill=\"none\" stroke=\"black\" d=\"M99,-71.7C99,-64.24 99,-55.32 99,-46.97\"/>\n",
       "<polygon fill=\"black\" stroke=\"black\" points=\"102.5,-47.1 99,-37.1 95.5,-47.1 102.5,-47.1\"/>\n",
       "</g>\n",
       "<!-- 3(c) -->\n",
       "<g id=\"node8\" class=\"node\">\n",
       "<title>3(c)</title>\n",
       "<ellipse fill=\"none\" stroke=\"black\" cx=\"171\" cy=\"-18\" rx=\"27\" ry=\"18\"/>\n",
       "<text text-anchor=\"middle\" x=\"171\" y=\"-12.57\" font-family=\"Times New Roman,serif\" font-size=\"14.00\">3(c)</text>\n",
       "</g>\n",
       "<!-- 1(b)&#45;&gt;3(c) -->\n",
       "<g id=\"edge4\" class=\"edge\">\n",
       "<title>1(b)&#45;&gt;3(c)</title>\n",
       "<path fill=\"none\" stroke=\"black\" d=\"M113.92,-74.5C123.86,-64.83 137.12,-51.94 148.35,-41.02\"/>\n",
       "<polygon fill=\"black\" stroke=\"black\" points=\"150.37,-43.97 155.1,-34.49 145.49,-38.95 150.37,-43.97\"/>\n",
       "</g>\n",
       "<!-- 1(c) -->\n",
       "<g id=\"node9\" class=\"node\">\n",
       "<title>1(c)</title>\n",
       "<ellipse fill=\"none\" stroke=\"black\" cx=\"27\" cy=\"-18\" rx=\"27\" ry=\"18\"/>\n",
       "<text text-anchor=\"middle\" x=\"27\" y=\"-12.57\" font-family=\"Times New Roman,serif\" font-size=\"14.00\">1(c)</text>\n",
       "</g>\n",
       "<!-- 2(b)&#45;&gt;1(c) -->\n",
       "<g id=\"edge5\" class=\"edge\">\n",
       "<title>2(b)&#45;&gt;1(c)</title>\n",
       "<path fill=\"none\" stroke=\"black\" d=\"M27,-71.7C27,-64.24 27,-55.32 27,-46.97\"/>\n",
       "<polygon fill=\"black\" stroke=\"black\" points=\"30.5,-47.1 27,-37.1 23.5,-47.1 30.5,-47.1\"/>\n",
       "</g>\n",
       "<!-- 2(a) -->\n",
       "<g id=\"node4\" class=\"node\">\n",
       "<title>2(a)</title>\n",
       "<ellipse fill=\"none\" stroke=\"black\" cx=\"171\" cy=\"-162\" rx=\"27\" ry=\"18\"/>\n",
       "<text text-anchor=\"middle\" x=\"171\" y=\"-156.57\" font-family=\"Times New Roman,serif\" font-size=\"14.00\">2(a)</text>\n",
       "</g>\n",
       "<!-- 3(b) -->\n",
       "<g id=\"node5\" class=\"node\">\n",
       "<title>3(b)</title>\n",
       "<ellipse fill=\"none\" stroke=\"black\" cx=\"171\" cy=\"-90\" rx=\"27\" ry=\"18\"/>\n",
       "<text text-anchor=\"middle\" x=\"171\" y=\"-84.58\" font-family=\"Times New Roman,serif\" font-size=\"14.00\">3(b)</text>\n",
       "</g>\n",
       "<!-- 2(a)&#45;&gt;3(b) -->\n",
       "<g id=\"edge6\" class=\"edge\">\n",
       "<title>2(a)&#45;&gt;3(b)</title>\n",
       "<path fill=\"none\" stroke=\"black\" d=\"M171,-143.7C171,-136.24 171,-127.32 171,-118.97\"/>\n",
       "<polygon fill=\"black\" stroke=\"black\" points=\"174.5,-119.1 171,-109.1 167.5,-119.1 174.5,-119.1\"/>\n",
       "</g>\n",
       "<!-- 3(b)&#45;&gt;3(c) -->\n",
       "<g id=\"edge7\" class=\"edge\">\n",
       "<title>3(b)&#45;&gt;3(c)</title>\n",
       "<path fill=\"none\" stroke=\"black\" d=\"M171,-71.7C171,-64.24 171,-55.32 171,-46.97\"/>\n",
       "<polygon fill=\"black\" stroke=\"black\" points=\"174.5,-47.1 171,-37.1 167.5,-47.1 174.5,-47.1\"/>\n",
       "</g>\n",
       "<!-- 3(a) -->\n",
       "<g id=\"node6\" class=\"node\">\n",
       "<title>3(a)</title>\n",
       "<ellipse fill=\"none\" stroke=\"black\" cx=\"99\" cy=\"-162\" rx=\"27\" ry=\"18\"/>\n",
       "<text text-anchor=\"middle\" x=\"99\" y=\"-156.57\" font-family=\"Times New Roman,serif\" font-size=\"14.00\">3(a)</text>\n",
       "</g>\n",
       "<!-- 3(a)&#45;&gt;1(b) -->\n",
       "<g id=\"edge8\" class=\"edge\">\n",
       "<title>3(a)&#45;&gt;1(b)</title>\n",
       "<path fill=\"none\" stroke=\"black\" d=\"M99,-143.7C99,-136.24 99,-127.32 99,-118.97\"/>\n",
       "<polygon fill=\"black\" stroke=\"black\" points=\"102.5,-119.1 99,-109.1 95.5,-119.1 102.5,-119.1\"/>\n",
       "</g>\n",
       "<!-- 3(a)&#45;&gt;3(b) -->\n",
       "<g id=\"edge9\" class=\"edge\">\n",
       "<title>3(a)&#45;&gt;3(b)</title>\n",
       "<path fill=\"none\" stroke=\"black\" d=\"M113.92,-146.5C123.86,-136.83 137.12,-123.94 148.35,-113.02\"/>\n",
       "<polygon fill=\"black\" stroke=\"black\" points=\"150.37,-115.97 155.1,-106.49 145.49,-110.95 150.37,-115.97\"/>\n",
       "</g>\n",
       "</g>\n",
       "</svg>\n"
      ],
      "text/plain": [
       "<graphviz.sources.Source at 0x1d431657a90>"
      ]
     },
     "execution_count": 14,
     "metadata": {},
     "output_type": "execute_result"
    }
   ],
   "source": [
    "import networkx as nx\n",
    "G = nx.MultiDiGraph()\n",
    "\n",
    "# (R)\n",
    "G.add_edge('1(a)','1(b)')\n",
    "G.add_edge('1(a)','2(b)')\n",
    "G.add_edge('2(a)','3(b)')\n",
    "G.add_edge('3(a)','1(b)')\n",
    "G.add_edge('3(a)','3(b)')\n",
    "\n",
    "# (S)\n",
    "G.add_edge('1(b)','2(c)')\n",
    "G.add_edge('1(b)','3(c)')\n",
    "G.add_edge('2(b)','1(c)')\n",
    "G.add_edge('3(b)','3(c)')\n",
    "\n",
    "from networkx.drawing import nx_pydot\n",
    "from graphviz import Source\n",
    "\n",
    "nx_pydot.write_dot(G, 'multig.dot')\n",
    "Source.from_file('multig.dot')"
   ]
  },
  {
   "cell_type": "markdown",
   "metadata": {},
   "source": [
    "5. $S \\circ S$\n",
    "\n",
    "- if $S$ = $\\{\\{1,2\\},\\{1,3\\},\\{2,1\\},\\{3,3\\}\\}$\n",
    "- then $S \\circ S$  should be composite relation to itself such that:\n",
    "\n",
    "    $S^{1}$ = $\\{\\{1,2\\},\\{1,3\\},\\{2,1\\},\\{3,3\\}\\}$ \\\n",
    "    $S^{2}$ = $\\{\\{1,2\\},\\{1,3\\},\\{2,1\\},\\{3,3\\}\\}$\n",
    "\n",
    "- therefore the $(a,b) \\in S^{1}$ and the $(b,c) \\in S^{2}$\n",
    "\n",
    "- if the first ordered pair on $S^{1}$ = $\\{1,2\\}$ $|$ 1 is a, and 2 is b \n",
    "- and the third ordered pair on $S^{2}$ = $\\{2,1\\}$ $|$ 2 is b, and 1 is c\n",
    "- therefore the first ordered pair of $S \\circ S$ is $\\{1,1\\}$\n",
    "- and if we repeat that process, we get: $R \\circ R$ = $\\{\\{1,1\\},\\{1,3\\},\\{2,2\\},\\{2,3\\},\\{3,3\\}\\}$"
   ]
  },
  {
   "cell_type": "code",
   "execution_count": 15,
   "metadata": {},
   "outputs": [
    {
     "data": {
      "image/svg+xml": [
       "<?xml version=\"1.0\" encoding=\"UTF-8\" standalone=\"no\"?>\n",
       "<!DOCTYPE svg PUBLIC \"-//W3C//DTD SVG 1.1//EN\"\n",
       " \"http://www.w3.org/Graphics/SVG/1.1/DTD/svg11.dtd\">\n",
       "<!-- Generated by graphviz version 8.1.0 (20230707.0739)\n",
       " -->\n",
       "<!-- Pages: 1 -->\n",
       "<svg width=\"206pt\" height=\"188pt\"\n",
       " viewBox=\"0.00 0.00 206.00 188.00\" xmlns=\"http://www.w3.org/2000/svg\" xmlns:xlink=\"http://www.w3.org/1999/xlink\">\n",
       "<g id=\"graph0\" class=\"graph\" transform=\"scale(1 1) rotate(0) translate(4 184)\">\n",
       "<polygon fill=\"white\" stroke=\"none\" points=\"-4,4 -4,-184 202,-184 202,4 -4,4\"/>\n",
       "<!-- 1(a) -->\n",
       "<g id=\"node1\" class=\"node\">\n",
       "<title>1(a)</title>\n",
       "<ellipse fill=\"none\" stroke=\"black\" cx=\"27\" cy=\"-162\" rx=\"27\" ry=\"18\"/>\n",
       "<text text-anchor=\"middle\" x=\"27\" y=\"-156.57\" font-family=\"Times New Roman,serif\" font-size=\"14.00\">1(a)</text>\n",
       "</g>\n",
       "<!-- 2(b) -->\n",
       "<g id=\"node2\" class=\"node\">\n",
       "<title>2(b)</title>\n",
       "<ellipse fill=\"none\" stroke=\"black\" cx=\"27\" cy=\"-90\" rx=\"27\" ry=\"18\"/>\n",
       "<text text-anchor=\"middle\" x=\"27\" y=\"-84.58\" font-family=\"Times New Roman,serif\" font-size=\"14.00\">2(b)</text>\n",
       "</g>\n",
       "<!-- 1(a)&#45;&gt;2(b) -->\n",
       "<g id=\"edge1\" class=\"edge\">\n",
       "<title>1(a)&#45;&gt;2(b)</title>\n",
       "<path fill=\"none\" stroke=\"black\" d=\"M27,-143.7C27,-136.24 27,-127.32 27,-118.97\"/>\n",
       "<polygon fill=\"black\" stroke=\"black\" points=\"30.5,-119.1 27,-109.1 23.5,-119.1 30.5,-119.1\"/>\n",
       "</g>\n",
       "<!-- 3(b) -->\n",
       "<g id=\"node3\" class=\"node\">\n",
       "<title>3(b)</title>\n",
       "<ellipse fill=\"none\" stroke=\"black\" cx=\"99\" cy=\"-90\" rx=\"27\" ry=\"18\"/>\n",
       "<text text-anchor=\"middle\" x=\"99\" y=\"-84.58\" font-family=\"Times New Roman,serif\" font-size=\"14.00\">3(b)</text>\n",
       "</g>\n",
       "<!-- 1(a)&#45;&gt;3(b) -->\n",
       "<g id=\"edge2\" class=\"edge\">\n",
       "<title>1(a)&#45;&gt;3(b)</title>\n",
       "<path fill=\"none\" stroke=\"black\" d=\"M41.92,-146.5C51.86,-136.83 65.12,-123.94 76.35,-113.02\"/>\n",
       "<polygon fill=\"black\" stroke=\"black\" points=\"78.37,-115.97 83.1,-106.49 73.49,-110.95 78.37,-115.97\"/>\n",
       "</g>\n",
       "<!-- 1(c) -->\n",
       "<g id=\"node9\" class=\"node\">\n",
       "<title>1(c)</title>\n",
       "<ellipse fill=\"none\" stroke=\"black\" cx=\"27\" cy=\"-18\" rx=\"27\" ry=\"18\"/>\n",
       "<text text-anchor=\"middle\" x=\"27\" y=\"-12.57\" font-family=\"Times New Roman,serif\" font-size=\"14.00\">1(c)</text>\n",
       "</g>\n",
       "<!-- 2(b)&#45;&gt;1(c) -->\n",
       "<g id=\"edge3\" class=\"edge\">\n",
       "<title>2(b)&#45;&gt;1(c)</title>\n",
       "<path fill=\"none\" stroke=\"black\" d=\"M27,-71.7C27,-64.24 27,-55.32 27,-46.97\"/>\n",
       "<polygon fill=\"black\" stroke=\"black\" points=\"30.5,-47.1 27,-37.1 23.5,-47.1 30.5,-47.1\"/>\n",
       "</g>\n",
       "<!-- 3(c) -->\n",
       "<g id=\"node8\" class=\"node\">\n",
       "<title>3(c)</title>\n",
       "<ellipse fill=\"none\" stroke=\"black\" cx=\"99\" cy=\"-18\" rx=\"27\" ry=\"18\"/>\n",
       "<text text-anchor=\"middle\" x=\"99\" y=\"-12.57\" font-family=\"Times New Roman,serif\" font-size=\"14.00\">3(c)</text>\n",
       "</g>\n",
       "<!-- 3(b)&#45;&gt;3(c) -->\n",
       "<g id=\"edge4\" class=\"edge\">\n",
       "<title>3(b)&#45;&gt;3(c)</title>\n",
       "<path fill=\"none\" stroke=\"black\" d=\"M99,-71.7C99,-64.24 99,-55.32 99,-46.97\"/>\n",
       "<polygon fill=\"black\" stroke=\"black\" points=\"102.5,-47.1 99,-37.1 95.5,-47.1 102.5,-47.1\"/>\n",
       "</g>\n",
       "<!-- 2(a) -->\n",
       "<g id=\"node4\" class=\"node\">\n",
       "<title>2(a)</title>\n",
       "<ellipse fill=\"none\" stroke=\"black\" cx=\"171\" cy=\"-162\" rx=\"27\" ry=\"18\"/>\n",
       "<text text-anchor=\"middle\" x=\"171\" y=\"-156.57\" font-family=\"Times New Roman,serif\" font-size=\"14.00\">2(a)</text>\n",
       "</g>\n",
       "<!-- 1(b) -->\n",
       "<g id=\"node5\" class=\"node\">\n",
       "<title>1(b)</title>\n",
       "<ellipse fill=\"none\" stroke=\"black\" cx=\"171\" cy=\"-90\" rx=\"27\" ry=\"18\"/>\n",
       "<text text-anchor=\"middle\" x=\"171\" y=\"-84.58\" font-family=\"Times New Roman,serif\" font-size=\"14.00\">1(b)</text>\n",
       "</g>\n",
       "<!-- 2(a)&#45;&gt;1(b) -->\n",
       "<g id=\"edge5\" class=\"edge\">\n",
       "<title>2(a)&#45;&gt;1(b)</title>\n",
       "<path fill=\"none\" stroke=\"black\" d=\"M171,-143.7C171,-136.24 171,-127.32 171,-118.97\"/>\n",
       "<polygon fill=\"black\" stroke=\"black\" points=\"174.5,-119.1 171,-109.1 167.5,-119.1 174.5,-119.1\"/>\n",
       "</g>\n",
       "<!-- 2(c) -->\n",
       "<g id=\"node7\" class=\"node\">\n",
       "<title>2(c)</title>\n",
       "<ellipse fill=\"none\" stroke=\"black\" cx=\"171\" cy=\"-18\" rx=\"27\" ry=\"18\"/>\n",
       "<text text-anchor=\"middle\" x=\"171\" y=\"-12.57\" font-family=\"Times New Roman,serif\" font-size=\"14.00\">2(c)</text>\n",
       "</g>\n",
       "<!-- 1(b)&#45;&gt;2(c) -->\n",
       "<g id=\"edge6\" class=\"edge\">\n",
       "<title>1(b)&#45;&gt;2(c)</title>\n",
       "<path fill=\"none\" stroke=\"black\" d=\"M171,-71.7C171,-64.24 171,-55.32 171,-46.97\"/>\n",
       "<polygon fill=\"black\" stroke=\"black\" points=\"174.5,-47.1 171,-37.1 167.5,-47.1 174.5,-47.1\"/>\n",
       "</g>\n",
       "<!-- 1(b)&#45;&gt;3(c) -->\n",
       "<g id=\"edge7\" class=\"edge\">\n",
       "<title>1(b)&#45;&gt;3(c)</title>\n",
       "<path fill=\"none\" stroke=\"black\" d=\"M156.08,-74.5C146.14,-64.83 132.88,-51.94 121.65,-41.02\"/>\n",
       "<polygon fill=\"black\" stroke=\"black\" points=\"124.51,-38.95 114.9,-34.49 119.63,-43.97 124.51,-38.95\"/>\n",
       "</g>\n",
       "<!-- 3(a) -->\n",
       "<g id=\"node6\" class=\"node\">\n",
       "<title>3(a)</title>\n",
       "<ellipse fill=\"none\" stroke=\"black\" cx=\"99\" cy=\"-162\" rx=\"27\" ry=\"18\"/>\n",
       "<text text-anchor=\"middle\" x=\"99\" y=\"-156.57\" font-family=\"Times New Roman,serif\" font-size=\"14.00\">3(a)</text>\n",
       "</g>\n",
       "<!-- 3(a)&#45;&gt;3(b) -->\n",
       "<g id=\"edge8\" class=\"edge\">\n",
       "<title>3(a)&#45;&gt;3(b)</title>\n",
       "<path fill=\"none\" stroke=\"black\" d=\"M99,-143.7C99,-136.24 99,-127.32 99,-118.97\"/>\n",
       "<polygon fill=\"black\" stroke=\"black\" points=\"102.5,-119.1 99,-109.1 95.5,-119.1 102.5,-119.1\"/>\n",
       "</g>\n",
       "</g>\n",
       "</svg>\n"
      ],
      "text/plain": [
       "<graphviz.sources.Source at 0x1d4316d22d0>"
      ]
     },
     "execution_count": 15,
     "metadata": {},
     "output_type": "execute_result"
    }
   ],
   "source": [
    "import networkx as nx\n",
    "G = nx.MultiDiGraph()\n",
    "\n",
    "# (S)\n",
    "G.add_edge('1(a)','2(b)')\n",
    "G.add_edge('1(a)','3(b)')\n",
    "G.add_edge('2(a)','1(b)')\n",
    "G.add_edge('3(a)','3(b)')\n",
    "\n",
    "# (S)\n",
    "G.add_edge('1(b)','2(c)')\n",
    "G.add_edge('1(b)','3(c)')\n",
    "G.add_edge('2(b)','1(c)')\n",
    "G.add_edge('3(b)','3(c)')\n",
    "\n",
    "from networkx.drawing import nx_pydot\n",
    "from graphviz import Source\n",
    "\n",
    "nx_pydot.write_dot(G, 'multig.dot')\n",
    "Source.from_file('multig.dot')"
   ]
  },
  {
   "cell_type": "markdown",
   "metadata": {},
   "source": [
    "Consider the five relations on the set $A = \\{1,2,3\\}$: \\\n",
    "$R$ = $\\{\\{1,1\\},\\{1,2\\},\\{1,3\\},\\{3,3\\}\\}$, \\\n",
    "$S$ = $\\{\\{1,1\\},\\{1,2\\}, \\{2,1\\},\\{2,2\\},\\{3,3\\}\\}$, \\\n",
    "$T$ = $\\{\\{1,1\\},\\{1,2\\},\\{2,2\\},\\{2,3\\}\\}$\n",
    "\n",
    "Which of the relations above are:\n",
    "\n",
    "1. Reflexive\n",
    "\n",
    "- $S$ = $\\{\\{1,1\\},\\{1,2\\}, \\{2,1\\},\\{2,2\\},\\{3,3\\}\\}$ \\\n",
    "   since $S$ has all reflexive ordered pairs found in $A$ = $\\{1,2,3\\}$, such as $\\{\\{1,1\\},\\{2,2\\},\\{3,3\\}\\}$"
   ]
  },
  {
   "cell_type": "code",
   "execution_count": 16,
   "metadata": {},
   "outputs": [
    {
     "name": "stdout",
     "output_type": "stream",
     "text": [
      "\n",
      "the array [[1, 1], [1, 2], [2, 1], [2, 2], [3, 3]] is reflexive\n",
      "\n",
      "Reflexive arrays: [[1, 1], [2, 2], [3, 3]]\n",
      "Non - reflexive arrays: [[1, 2], [2, 1]]\n"
     ]
    }
   ],
   "source": [
    "set_S = [1,2,3]\n",
    "S = [[1,1],[1,2],[2,1],[2,2],[3,3]]\n",
    "\n",
    "reflexive(set_S,S)"
   ]
  },
  {
   "cell_type": "markdown",
   "metadata": {},
   "source": [
    "2. Symmetric or anti-symmetric\n",
    "\n",
    "- $S$ = $\\{\\{1,1\\},\\{1,2\\}, \\{2,1\\},\\{2,2\\},\\{3,3\\}\\}$ \\\n",
    "   since all of the ordered pairs in $S$ has an inversion inside the relation $($ ex. $\\{1,2\\} - \\{2,1\\})$"
   ]
  },
  {
   "cell_type": "code",
   "execution_count": 17,
   "metadata": {},
   "outputs": [
    {
     "name": "stdout",
     "output_type": "stream",
     "text": [
      "the array [[1, 1], [1, 2], [2, 1], [2, 2], [3, 3]] is symmetric\n",
      "\n",
      "Symmetric arrays: [[1, 1], [2, 1], [1, 2], [2, 2], [3, 3]]\n",
      "Non - symmetric arrays: []\n"
     ]
    }
   ],
   "source": [
    "symmetric([[1,1],[1,2],[2,1],[2,2],[3,3]])"
   ]
  },
  {
   "cell_type": "markdown",
   "metadata": {},
   "source": [
    "3. Transitive\n",
    "\n",
    "- $T$ = $\\{\\{1,1\\},\\{1,2\\},\\{2,2\\},\\{2,3\\},\\}$ and $S$ = $\\{\\{1,1\\},\\{1,2\\}, \\{2,1\\},\\{2,2\\},\\{3,3\\}\\}$, \\\n",
    "    since every ordered pair in the given set has a correlation of it's second value to the first value inside the ordered pairs, example is: $\\{1,1\\} = (a,b)$ has a b value of 1, which correlates to $\\{1,2\\} = (b,c)$ which has a b value of also 1"
   ]
  },
  {
   "cell_type": "code",
   "execution_count": 18,
   "metadata": {},
   "outputs": [
    {
     "name": "stdout",
     "output_type": "stream",
     "text": [
      "the relation [[1, 1], [1, 2], [2, 2], [2, 3]] is NOT transitive\n",
      "the relation [[1, 1], [1, 2], [2, 1], [2, 2], [3, 3]] is NOT transitive\n",
      "the relation [[1, 1], [1, 2], [1, 3], [3, 3]] is NOT transitive\n"
     ]
    }
   ],
   "source": [
    "transitive([[1,1],[1,2],[2,2],[2,3]]) #T\n",
    "transitive([[1,1],[1,2],[2,1],[2,2],[3,3]]) #S\n",
    "transitive([[1,1],[1,2],[1,3],[3,3]]) #R"
   ]
  }
 ],
 "metadata": {
  "kernelspec": {
   "display_name": "Python 3",
   "language": "python",
   "name": "python3"
  },
  "language_info": {
   "codemirror_mode": {
    "name": "ipython",
    "version": 3
   },
   "file_extension": ".py",
   "mimetype": "text/x-python",
   "name": "python",
   "nbconvert_exporter": "python",
   "pygments_lexer": "ipython3",
   "version": "3.11.5"
  },
  "orig_nbformat": 4
 },
 "nbformat": 4,
 "nbformat_minor": 2
}
