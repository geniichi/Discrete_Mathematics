{
 "cells": [
  {
   "cell_type": "markdown",
   "metadata": {},
   "source": [
    "Given $A = \\{1,2,3,4\\}$. Let $R$ be a relation from $A \\to B$: \n",
    "$\\textbf{R}$ = $\\{\\{1,1\\},\\{2,2\\},\\{2,3\\},\\{3,2\\},\\{4,2\\},\\{4,4\\}\\}$"
   ]
  },
  {
   "cell_type": "markdown",
   "metadata": {},
   "source": [
    "1. Find all $aRb$.\n",
    "\n",
    "- so if $R$ = $A \\to B$ | $\\{\\{1,1\\},\\{2,2\\},\\{2,3\\},\\{3,2\\},\\{4,2\\},\\{4,4\\}\\}$ \n",
    "- then we can assume that $B$ has $x \\in B| \\{1,2,3,4\\}$\n",
    "- and to find the $aRb$ we just need to make a relation between $A$ and $B$ so: \n",
    "$\\{\\{1,1\\},\\{1,2\\},\\{1,3\\},\\{1,4\\},\\{2,1\\},\\{2,2\\},\\{2,3\\},\\{2,4\\},\\{3,1\\},\\{3,2\\},\\{3,3\\},\\{3,4\\},\\{4,1\\},\\{4,2\\},\\{4,3\\},\\{4,4\\}\\}$\n",
    "- after that, we check if  $A \\to B$ has elements in $aRb$, which it has: $\\{\\{1,1\\},\\{2,2\\},\\{2,3\\},\\{3,2\\},\\{4,2\\},\\{4,4\\}\\}$\n",
    "\n",
    "2. Find $R^{-1}$.\n",
    "- efaed\n",
    "3. Determine the domain and range of $R$.\n",
    "4. Check if $R$ is a reflexive relation.\n",
    "5. Check if $R$ is a symmetric relation."
   ]
  }
 ],
 "metadata": {
  "language_info": {
   "name": "python"
  },
  "orig_nbformat": 4
 },
 "nbformat": 4,
 "nbformat_minor": 2
}
