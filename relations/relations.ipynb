{
 "cells": [
  {
   "cell_type": "markdown",
   "metadata": {},
   "source": [
    "Given $A = \\{1,2,3,4\\}$. Let $R$ be a relation from $A \\to B$: \n",
    "$\\textbf{R}$ = $\\{\\{1,1\\},\\{2,2\\},\\{2,3\\},\\{3,2\\},\\{4,2\\},\\{4,4\\}\\}$"
   ]
  },
  {
   "cell_type": "markdown",
   "metadata": {},
   "source": [
    "1. Find all $aRb$.\n",
    "- so if $R$ = $A \\to B$ | $\\{\\{1,1\\},\\{2,2\\},\\{2,3\\},\\{3,2\\},\\{4,2\\},\\{4,4\\}\\}$ \n",
    "- then we can assume that $B$ has $x \\in B| \\{1,2,3,4\\}$\n",
    "- and to find the $aRb$ we just need to make a relation between $A$ and $B$ so: \n",
    "$\\{\\{1,1\\},\\{1,2\\},\\{1,3\\},\\{1,4\\},\\{2,1\\},\\{2,2\\},\\{2,3\\},\\{2,4\\},\\{3,1\\},\\{3,2\\},\\{3,3\\},\\{3,4\\},\\{4,1\\},\\{4,2\\},\\{4,3\\},\\{4,4\\}\\}$\n",
    "- after that, we check if  $A \\to B$ has elements in $aRb$, which it has: $\\{\\{1,1\\},\\{2,2\\},\\{2,3\\},\\{3,2\\},\\{4,2\\},\\{4,4\\}\\}$\n",
    "\n",
    "2. Find $R^{-1}$.\n",
    "- if $R$ is $\\{\\{1,1\\},\\{2,2\\},\\{2,3\\},\\{3,2\\},\\{4,2\\},\\{4,4\\}\\}$\n",
    "- then the inverse of it will be, $R^{-1}$ = $\\{\\{1,1\\},\\{2,2\\},\\{3,2\\},\\{2,3\\},\\{2,4\\},\\{4,4\\}\\}$\n",
    "\n",
    "3. Determine the domain and range of $R$.\n",
    "- to determine the domain and range of $R$, we only have to get first values of the ordered pairs as domain, while the second values of the ordered pairs is goingto be our range, therefore the domain is  $\\{1, 2, 3, 4\\}$ while the range is $\\{1, 2, 3, 4\\}$\n",
    "\n",
    "4. Check if $R$ is a reflexive relation.\n",
    "- if $R$ is $\\{\\{1,1\\},\\{2,2\\},\\{2,3\\},\\{3,2\\},\\{4,2\\},\\{4,4\\}\\}$\n",
    "- and the pairs: $\\{1,1\\}, \\{2,2\\} and \\{4,4\\}$ are the only ones that reflexive, $\\{3,3\\}$ being one that is not present in the given relation\n",
    "- therefore, we can conclude that the $R$ = $\\{\\{1,1\\},\\{2,2\\},\\{2,3\\},\\{3,2\\},\\{4,2\\},\\{4,4\\}\\}$ is not a reflexive relation\n",
    "\n",
    "5. Check if $R$ is a symmetric relation.\n",
    "- if $R$ is $\\{\\{1,1\\},\\{2,2\\},\\{2,3\\},\\{3,2\\},\\{4,2\\},\\{4,4\\}\\}$\n",
    "- and a symetric relation should have ordered pairs where $\\{1,2\\}$ should have $\\{2,1\\}$\n",
    "- in this case, in our $R$ we only have symmetric pairs: $\\{\\{1,1\\},\\{2,2\\},\\{2,3\\},\\{3,2\\}\\}$ and $\\{4,2\\},\\{4,4\\}$ being the ordered pairs that do not have symmetry\n",
    "- therefore, we can conclude that the $R$ = $\\{\\{1,1\\},\\{2,2\\},\\{2,3\\},\\{3,2\\},\\{4,2\\},\\{4,4\\}\\}$ is not a symmetric relation"
   ]
  }
 ],
 "metadata": {
  "language_info": {
   "name": "python"
  },
  "orig_nbformat": 4
 },
 "nbformat": 4,
 "nbformat_minor": 2
}
